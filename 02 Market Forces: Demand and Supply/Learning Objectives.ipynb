{
 "cells": [
  {
   "cell_type": "markdown",
   "id": "specialized-specialist",
   "metadata": {},
   "source": [
    "# Learning Objectives"
   ]
  },
  {
   "cell_type": "markdown",
   "id": "settled-supervision",
   "metadata": {},
   "source": [
    "LO1: Explain the laws of demand and supply, and identify factors that cause demand and supply to shift."
   ]
  },
  {
   "cell_type": "markdown",
   "id": "impossible-cyprus",
   "metadata": {},
   "source": [
    "LO2: Calculate consumer surplus and producer surplus, and descrive what they mean."
   ]
  },
  {
   "cell_type": "markdown",
   "id": "anonymous-experience",
   "metadata": {},
   "source": [
    "LO3: Explain price determination in a competitive market, and show how equilibrium changes in response to chagnes in determinants of demand and supply."
   ]
  },
  {
   "cell_type": "markdown",
   "id": "moving-confirmation",
   "metadata": {},
   "source": [
    "LO4: Explain and illustrate how excise taxes, _ad valorem_ taxes, price floors, and price ceilings impact the functioning of a market."
   ]
  },
  {
   "cell_type": "markdown",
   "id": "legendary-chancellor",
   "metadata": {},
   "source": [
    "LO5: Apply supply and demand analysis as a qualitative forecasting tool to see the \"big picture\" in competitive markets."
   ]
  }
 ],
 "metadata": {
  "kernelspec": {
   "display_name": "R",
   "language": "R",
   "name": "ir"
  },
  "language_info": {
   "codemirror_mode": "r",
   "file_extension": ".r",
   "mimetype": "text/x-r-source",
   "name": "R",
   "pygments_lexer": "r",
   "version": "3.6.3"
  }
 },
 "nbformat": 4,
 "nbformat_minor": 5
}
