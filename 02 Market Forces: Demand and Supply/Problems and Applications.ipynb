{
 "cells": [
  {
   "cell_type": "markdown",
   "id": "recreational-letter",
   "metadata": {},
   "source": [
    "# Problems and Applications"
   ]
  },
  {
   "cell_type": "markdown",
   "id": "macro-federal",
   "metadata": {},
   "source": [
    "#### 11\n",
    "You are the manager of a midsized company that assembles personal computers. You purchase most components&mdash;such as random access memory (RAM)&mdash;in a competitive market. Based on your marketing research, consumers earning over $\\$80,000$ purchase $1.5$ times more RAM than consumers with lower incomes. One morning, you pick up a copy of _The Wall Street Journal_ and read an article indicating that input components for RAM are expected to rise in price, forcing manufacturers to produce RAM at a higher unit cost. Based on this information, what can you expect to happen to the price you pay for random access memory? Would your answer change if, in addition to this change in RAM input prices, the article indicated that consumer incomes are expected to fall over the next two years as the economy dips into recession? Explain. _(LO1, LO3, LO5)_"
   ]
  },
  {
   "cell_type": "markdown",
   "id": "employed-freeware",
   "metadata": {},
   "source": [
    "#### Solution\n",
    "The news in _The Wall Street Journal_ article indicating an increase in input component prices for RAM means that there will be a _supply shift_ to the left for RAM. This _decrease in supply_ means that I can anticipate paying more for RAM if I consume at current levels. On the _demand side_, if the article also indicates that consumer incomes are expected to fall over the next two years, then demand for computers with more RAM will shift to the left as well. This _decrease in demand_ means that I will be selling less computers that have more RAM."
   ]
  },
  {
   "cell_type": "markdown",
   "id": "handed-document",
   "metadata": {},
   "source": [
    "---"
   ]
  },
  {
   "cell_type": "markdown",
   "id": "verbal-carbon",
   "metadata": {},
   "source": [
    "#### 12\n",
    "You are the manager of a firm that produces and markets a generic type of soft drink in a competitive market. In addition to the large number of generic products in your market, you also compete against major brands such as Coca-Cola and Pepsi. Suppose that, due to successful lobbying efforts of sugar producers in the United States, Congress is going to levy a $\\$0.50$ per pound tariff on all imported raw sugar&mdash;the primary input for your product. In addition, Coke and Pepsi plan to launch an aggressive advertising campaign designed to persuade consumers that their branded products are superior to generic soft drinks. How will these events impact the equilibrium price and quantity of generic soft drinks? _(LO1, LO3, LO5)_"
   ]
  },
  {
   "cell_type": "markdown",
   "id": "nonprofit-monroe",
   "metadata": {},
   "source": [
    "#### Solution\n",
    "Both the $\\$0.50$ tax and the competitor advertising campaign represents attacks on the soft drink firm's supply and demand functions respectively. The firm can expect both a _supply shift_ and _demand shift_ to the left. This simultaneous decrease in both demand and supply means that the new consumer price for the firm's soft drink may be ambiguous, but the quantity of the firm's soft drinks that are produced will decrease."
   ]
  }
 ],
 "metadata": {
  "kernelspec": {
   "display_name": "R",
   "language": "R",
   "name": "ir"
  },
  "language_info": {
   "codemirror_mode": "r",
   "file_extension": ".r",
   "mimetype": "text/x-r-source",
   "name": "R",
   "pygments_lexer": "r",
   "version": "4.0.4"
  }
 },
 "nbformat": 4,
 "nbformat_minor": 5
}
