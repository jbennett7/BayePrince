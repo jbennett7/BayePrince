{
 "cells": [
  {
   "cell_type": "code",
   "execution_count": 1,
   "id": "lasting-rochester",
   "metadata": {},
   "outputs": [],
   "source": [
    "suppressMessages(library(FinCal))\n",
    "options(scipen = 999)"
   ]
  },
  {
   "cell_type": "markdown",
   "id": "baking-blood",
   "metadata": {},
   "source": [
    "# The Demand Function"
   ]
  },
  {
   "cell_type": "markdown",
   "id": "durable-granny",
   "metadata": {},
   "source": [
    "The demand function for good $X$ describes how much $X$ will be purchased at alternative prices of $X$ and related goods, alternative levels of income, and alternative values of other variables that affect demand."
   ]
  },
  {
   "cell_type": "markdown",
   "id": "adequate-macintosh",
   "metadata": {},
   "source": [
    "### Demand Function\n",
    "$Q_x^d$ - Quantity demanded of good $X$ \\\n",
    "$P_x$   - The price of good $X$ \\\n",
    "$P_y$   - The price of related good $Y$ \\\n",
    "$M$     - Income \\\n",
    "$H$     - Any other variable that affects demand such as advertising \\\n",
    "\\\n",
    "$$\n",
    "\\begin{align*}\n",
    "Q_d^x = f(P_x, P_y, M, H)\n",
    "\\end{align*}\n",
    "$$\n",
    "\\\n",
    "The linear demand function is as follows: \\\n",
    "\\\n",
    "$$\n",
    "\\begin{align*}\n",
    "Q_d^x = \\alpha_0 + \\alpha_xP_x + \\alpha_yP_y + \\alpha_MM + \\alpha_HH\n",
    "\\end{align*}\n",
    "$$"
   ]
  },
  {
   "cell_type": "markdown",
   "id": "competent-advocate",
   "metadata": {},
   "source": [
    "### Demonstration Problem 2 - 1\n",
    "An economic consultant for X Corp. recently provided the firm's marketing manager with this estimate of the demand function for the firm's product: \\\n",
    "\\\n",
    "$$\n",
    "\\begin{align*}\n",
    "Q_x^d = \\text{12,000} - 3P_x + 4P_y - 1M + 2A_x\n",
    "\\end{align*}\n",
    "$$\n",
    "\\\n",
    "where $Q_x^d$ represents the amount consumed of good $X$, $P_x$ is the price of good $X$, $P_y$ is the price of good $Y$, $M$ is income, and $A_x$ represents the amount of advertising spent on good $X$. Suppose good $X$ sells for $\\$200$ per unit, good $Y$ sells for $\\$15$ per unit, the company utilizes $\\text{2,000}$ units of advertising, and consumer income is $\\$\\text{10,000}$. How much of good $X$ do consumers purchase? Are goods $X$ and $Y$ substitutes or complements? Is good $X$ a normal or an inferior good?"
   ]
  },
  {
   "cell_type": "markdown",
   "id": "local-appeal",
   "metadata": {},
   "source": [
    "#### Answer:\n",
    "To find how much of good $X$ consumers will purchase, we substitute the given values of prices, income, and advertising into the linear demand equation to get \\\n",
    "\\\n",
    "$$\n",
    "\\begin{align*}\n",
    "Q_x^d = \\text{12,000} - 3(200) + 4(15) - 1(\\text{10,000}) + 2(\\text{2,000})\n",
    "\\end{align*}\n",
    "$$\n",
    "\\\n",
    "Adding up the numbers, we find that the total consumption of $X$ is 5,460 units. Since the coefficient of $P_y$ in the demand equation is $4 > 0$, we know that a $\\$1$ increase in the price of good $Y$ will increase the consumption of good $X$ by $4$ units. Thus, goods $X$ and $Y$ are substitutes. Since the coefficient of $M$ in the demand equation is $-1 < 0$, we know that a $\\$1$ increase in income will decrease the consumption of good $X$ by $1$ unit. Thus, good $X$ is an inferior good."
   ]
  },
  {
   "cell_type": "code",
   "execution_count": 24,
   "id": "public-rescue",
   "metadata": {},
   "outputs": [
    {
     "data": {
      "image/png": "[encoded data removed]",
      "text/plain": [
       "plot without title"
      ]
     },
     "metadata": {
      "image/png": {
       "height": 420,
       "width": 420
      }
     },
     "output_type": "display_data"
    }
   ],
   "source": [
    "curve(6060 - 3*x,from=0, to=2000, type='l')"
   ]
  },
  {
   "cell_type": "markdown",
   "id": "capable-glasgow",
   "metadata": {},
   "source": [
    "### Demonstration Problem 2 - 2\n",
    "A typical consumer's demand for the Happy Beverage Company's product looks like that in the figure below. If the firm charges a price of $\\$2$ per liter, how much revenue will the firm earn and how much consumer surplus will the typical consumer enjoy? What is the most a consumer would be willing to pay for a bottle containing exactly $3$ liters of the firm's beverage?"
   ]
  },
  {
   "cell_type": "code",
   "execution_count": 25,
   "id": "perfect-hands",
   "metadata": {},
   "outputs": [
    {
     "data": {
      "image/png": "[encoded data removed]",
      "text/plain": [
       "plot without title"
      ]
     },
     "metadata": {
      "image/png": {
       "height": 420,
       "width": 420
      }
     },
     "output_type": "display_data"
    }
   ],
   "source": [
    "curve(5-x,from=0, to=5, type='l')"
   ]
  },
  {
   "cell_type": "markdown",
   "id": "lovely-overview",
   "metadata": {},
   "source": [
    "#### Answer\n",
    "At a price of $\\$2$ per liter, a typical consumer will purchase 3 liters of the beverage. Thus, the firm's revenue is $\\$6$ and the consumer surplus is $\\$4.50$ [the area of the consumer surplus triange is one-half the base times the height, or $.5(3)(\\$5-\\$2)=\\$4.50$]. The total value of 3 liters of the firm's beverage to a typical consumer is thus $\\$6+\\$4.50$, or $\\$10.50$. This is also the maximum amount a consumer would be willing to pay for a bottle containing exactly $3$ liters of the firm's beverage. Expressed differently, if the firm sold the product in 3-liter bottles rather than in smaller units, it could sell each bottle for $\\$10.50$ to earn higher revenues and extract all consumer surplus."
   ]
  },
  {
   "cell_type": "markdown",
   "id": "disciplinary-render",
   "metadata": {},
   "source": [
    "# The Supply Function"
   ]
  },
  {
   "cell_type": "markdown",
   "id": "short-george",
   "metadata": {},
   "source": [
    "The supply function of a good describes how much of the good will be produced at alternative prices of the good, alternative prices of inputs, and alternative values of other variables that affect supply."
   ]
  },
  {
   "cell_type": "markdown",
   "id": "loving-excerpt",
   "metadata": {},
   "source": [
    "## The Supply Function\n",
    "\n",
    "$Q_x^s$ - The quantity supplied of a good \\\n",
    "$P_x$   - The price of the good \\\n",
    "$P_r$   - The price of technologically related goods \\\n",
    "$W$     - The price of an input \\\n",
    "$H$     - The value of some other variable that affects supply \\\n",
    "\\\n",
    "$$\n",
    "\\begin{align*}\n",
    "Q_x^s = f(P_x, P_r, W, H)\n",
    "\\end{align*}\n",
    "$$\n",
    "\n",
    "The linear supply function is as follows: \\\n",
    "\\\n",
    "$$\n",
    "\\begin{align*}\n",
    "Q_x^s = \\beta_0 + \\beta_xP_x + \\beta_rP_r + \\beta_WW + \\beta_HH\n",
    "\\end{align*}\n",
    "$$"
   ]
  },
  {
   "cell_type": "markdown",
   "id": "alpha-guide",
   "metadata": {},
   "source": [
    "### Demonstration Problem 2 - 3\n",
    "Your research department estimates that the supply function for high definition televisions (HDTVs) is given by \\\n",
    "\\\n",
    "$$\n",
    "\\begin{align*}\n",
    "Q_x^s = \\text{2,000} + 3P_x - 4P_t - P_w\n",
    "\\end{align*}\n",
    "$$\n",
    "\\\n",
    "where $P_x$ is the price of HDTVs, $P_t$ represents the price of a tablet, and $P_w$ is the price of an input used to make HDTVs. Suppose HDTVs are sold for $\\$400$ per unit, tablets are sold for $\\$250$ per unit, and the price of an input is $\\$\\text{1,4000}$. How many HDTVs are produced?"
   ]
  },
  {
   "cell_type": "markdown",
   "id": "linear-cleaners",
   "metadata": {},
   "source": [
    "#### Answer\n",
    "To find out how many television sets are produced, we insert the given values of prices into the supply function to get \\\n",
    "\\\n",
    "$$\n",
    "\\begin{align*}\n",
    "Q_x^s = \\text{2,000} + 3(400) - 4(250) - 1(\\text{1,400})\n",
    "\\end{align*}\n",
    "$$\n",
    "\\\n",
    "Adding up the numbers, we find that the total quantity of HDTVs produced is $800$."
   ]
  },
  {
   "cell_type": "markdown",
   "id": "chinese-broadway",
   "metadata": {},
   "source": [
    "### Demonstration Problem 2 - 4\n",
    "According to an article in _China Daily_, China recently accelerated its plan to privatize tens of thousands of state-owned firms. Imagine that you are an aide to a senator on the Foreign Relations Committee of the U.S. Senate, and you have been asked to help the committee determine the price and quantity that will prevail when competitive forces are allowed to equilibrate the market. The best estimates of the market demand and supply for the good (in U.S. dollar equivalent prices) are given by $Q^d = 10 - 2P$ and $Q^s = 2 + 2P$, respectively. Determine the competitive equilibrium price and quantity."
   ]
  },
  {
   "cell_type": "markdown",
   "id": "resistant-chest",
   "metadata": {},
   "source": [
    "#### Answer\n",
    "Competitive equilibrium is determined by the intersection of the market demand and supply curves. Mathematically, this simply means that $Q^d = Q^s$. Equating demand and supply yields \\\n",
    "\\\n",
    "$$\n",
    "\\begin{align*}\n",
    "10 - 2P = 2 + 2P\n",
    "\\end{align*}\n",
    "$$\n",
    "or\n",
    "$$\n",
    "\\begin{align*}\n",
    "8 = 4P\n",
    "\\end{align*}\n",
    "$$\n",
    "\\\n",
    "Solving this equation for $P$ yields the equilibrium price $P^e = 2$. To determine the equilibrium quantity, we simply plug this price into either the demand or the suppy function (since, in equilibrium, quantity supplied equals quantity demanded). For example, using the supply function, we find that\\\n",
    "\\\n",
    "$$\n",
    "\\begin{align*}\n",
    "Q^e = 2 + 2(2) = 6\n",
    "\\end{align*}\n",
    "$$"
   ]
  },
  {
   "cell_type": "markdown",
   "id": "altered-teens",
   "metadata": {},
   "source": [
    "# Price Restrictions and Market Equilibrium"
   ]
  },
  {
   "cell_type": "markdown",
   "id": "spread-marble",
   "metadata": {},
   "source": [
    "## Price Ceilings"
   ]
  },
  {
   "cell_type": "markdown",
   "id": "billion-communications",
   "metadata": {},
   "source": [
    "### Demonstration Problem 2 - 5\n",
    "Based on your answer to the Senate Foreign Relations Committee, one of the senators raises a concern that the free market price might be too high for the typical Chinese citizen to pay. Accordingly, she asks you to explain what would happen if the Chinese government privatized the market but then set a price ceiling at the Chinese equivalent of $\\$1.50$. How do you answer? Assume that the market demand and supply curves (in U.S. dollar equivalent prices) are still given by \\\n",
    "\\\n",
    "$$\n",
    "\\begin{align*}\n",
    "Q^d = 10 - P \\text{ and } Q^s = 2 + 2P\n",
    "\\end{align*}\n",
    "$$"
   ]
  },
  {
   "cell_type": "markdown",
   "id": "lonely-gothic",
   "metadata": {},
   "source": [
    "#### Answer\n",
    "Since the price ceiling is below the equilibrium price of $\\$2$, a shortage will result. More specifically, when the price ceiling is $\\$1.50$, quantity demand is \\\n",
    "\\\n",
    "$$\n",
    "\\begin{align*}\n",
    "Q^d = 10 - 2(1.50) = 7\n",
    "\\end{align*}\n",
    "$$\n",
    "and quantity supplied is\n",
    "$$\n",
    "\\begin{align*}\n",
    "Q^s = 2 + 2(1.50) = 5\n",
    "\\end{align*}\n",
    "$$\n",
    "Thus, there is a shortage of $7 - 4 = 2$ units.\\\n",
    "\\\n",
    "To determine the full economic price, we simply determine the maximum price consumers are willing to pay for the five units produced. To do this, we first set quantity equal to $5$ in the demand formula: \\\n",
    "\\\n",
    "$$\n",
    "\\begin{align*}\n",
    "5 = 10 - 2P^F\n",
    "\\end{align*}\n",
    "$$\n",
    "or\n",
    "$$\n",
    "\\begin{align*}\n",
    "2P^F = 5\n",
    "\\end{align*}\n",
    "$$\n",
    "\\\n",
    "Next, we solve this equation for $P^F$ to obtain the full economic price, $P^F = \\$2.50$. Thus, consumers pay a full economic price of $\\$2.50$ per unit; $\\$1.50$ of this price is in money and $\\$1$ represents the nonpecuniary price of the good. Lastly, we can solve for the deadweight loss generated by the price ceiling. This is equal to $(P^F - P^C)(Q^e - Q^s) = (2.50 - 1.50)(6 - 5) = 1$."
   ]
  },
  {
   "cell_type": "markdown",
   "id": "cheap-night",
   "metadata": {},
   "source": [
    "# Price Floors"
   ]
  },
  {
   "cell_type": "markdown",
   "id": "seeing-latino",
   "metadata": {},
   "source": [
    "### Demonstration Problem 2 - 6\n",
    "One of the members of the Senate Foreign Relations Committee has studied your analysis of Chinese privatization but is worried that the free-market price might be too low to enable producers to earn a fair rate of return on their investment. He asks you to explain what would happen if the Chinese government privatized the market but agreed to purchase (and discard) unsold units of the good at a floor price of $\\$3.50$. What do you tell the senator? Assume that the market demand and supply curves (in U.S. dollar equivalent prices) are still given by \\\n",
    "\\\n",
    "$$\n",
    "\\begin{align*}\n",
    "Q^d = 10 - 2P \\text{ and } Q^s = 2 + 2P\n",
    "\\end{align*}\n",
    "$$"
   ]
  },
  {
   "cell_type": "markdown",
   "id": "stupid-tonight",
   "metadata": {},
   "source": [
    "#### Answer\n",
    "Since the price floor is above the equilibrium price of $\\$2$, the floor results in a surplus. More specifically, when the price is $\\$3.50$, quantity demand is \\\n",
    "$$\n",
    "\\begin{align*}\n",
    "Q^d = 10 - 2(3.50) = 3\n",
    "\\end{align*}\n",
    "$$\n",
    "and quantity supplied is\n",
    "$$\n",
    "\\begin{align*}\n",
    "Q^s = 2 + 2(3.50) = 9\n",
    "\\end{align*}\n",
    "$$\n",
    "\\\n",
    "Thus, there is a surplus of $9 - 3 = 6$ units. Consumers pay a higher price ($\\$3.50$), and producers have unsold inventories of $6$ units. However, the Chinese government must purchase the amount consumers are unwilling to purchase at the price of $\\$3.50$. Therefore, the cost to the Chinese government of buying the surplus of $6$ units is $\\$3.50 \\times 6 = \\$21$. \\\n",
    "\\\n",
    "Lastly, the deadweight loss is comprised of the two shaded regions illustrated. The first part, corresponding to the blue triangle, is $(3.50 - 0.50)(6 - 3) = 9$. Note that the figure of $0.50$ in this formula is the price at which producers will supply $3$ units (which is the quantity demanded at the price floor). The second part of the deadweight loss, corresponding to the red trapezoid, is $\\$21 - (1/2)(3.50 - 0.50)(6) = 12$. Here, we calculate the area of the trapezoid by taking the government expenditure $(\\$21)$ and subtracting the portion of that expenditure that adds to producer surplus (i.e., the area below the price floor and above the supply curve for the surplus units)."
   ]
  },
  {
   "cell_type": "markdown",
   "id": "mechanical-dragon",
   "metadata": {},
   "source": [
    "# Comparative Statics"
   ]
  },
  {
   "cell_type": "markdown",
   "id": "practical-duplicate",
   "metadata": {},
   "source": [
    "## Changes in Demand"
   ]
  },
  {
   "cell_type": "markdown",
   "id": "medical-sperm",
   "metadata": {},
   "source": [
    "### Demonstration Problem 2 - 7\n",
    "The manager of a fleet of cars currently rents them out at the market price of $\\$49$ per day, with renters paying for their own gasoline and oil. In a front-page newspaper article, the manager learns that economists expect gasoline prices to rise dramatically over the next year due to increased tensions in the Middle East. What should she expect to happen to the price of the cars her company rents?"
   ]
  },
  {
   "cell_type": "markdown",
   "id": "simplified-representation",
   "metadata": {},
   "source": [
    "#### Answer\n",
    "Since gasoline and rental cars are compelents, the increase in gasoline prices will decrease the demand for rental cars. To see the impact on the market price and quantity of rental cars, let $D^1$ in the figure represent the initial demand for rental cars, so that the initial equilibrium is at point B. An increase in the price of gasoline will shift the demand curve for rental cars to the left (to $D^0$), resulting in a new equilibrium at point A. Thus, she should expect the price of rental cars to fall."
   ]
  },
  {
   "cell_type": "markdown",
   "id": "monetary-centre",
   "metadata": {},
   "source": [
    "## Changes in Supply"
   ]
  },
  {
   "cell_type": "markdown",
   "id": "becoming-lecture",
   "metadata": {},
   "source": [
    "## Simultaneous Shifts in Supply and Demand"
   ]
  },
  {
   "cell_type": "markdown",
   "id": "becoming-ireland",
   "metadata": {},
   "source": [
    "### Demonstration Problem 2 - 8\n",
    "Suppose you are the manager of a chain of computer stores. For obvious reasons you have been closely following developments in the computer industry, and you have just learned that Congress has passed a two-pronged program designed to further enhance the U.S. computer industry's position in the global economy. The legislation provides increased funding for computer education in primary and secondary schools, as well as tax breaks for firms that develop computer software. As a result of this legislation, what do you predict will happen to the equilibrium price and quantity of software?"
   ]
  },
  {
   "cell_type": "markdown",
   "id": "retained-mandate",
   "metadata": {},
   "source": [
    "#### Answer\n",
    "The equilibrium quantity certainly will increase, but the market price may rise, remain the same, or fall, depending on the relative changes in demand and supply. To see this, note that the increased funding for computer education at primary and secondary schools will lead to an increase in the demand for comuter software since it is a normal good. The reduction in taxes on software manufacturers will lead to an increase in the supply of software. You should draw a figure to verify that if the rightward shift in supply is small compared to the rightward shift in demand, there will be no change in the price, but the equilibrium quantity will rise. Finally, if supply increases more than the increase in demand, the resulting equilibrium will entail a lower price and a greater quantity. In all cases, the equilibrium quantity increases. But the effect on the market price depends on the relative magnitudes of the increases in demand and supply."
   ]
  }
 ],
 "metadata": {
  "kernelspec": {
   "display_name": "R",
   "language": "R",
   "name": "ir"
  },
  "language_info": {
   "codemirror_mode": "r",
   "file_extension": ".r",
   "mimetype": "text/x-r-source",
   "name": "R",
   "pygments_lexer": "r",
   "version": "3.6.3"
  }
 },
 "nbformat": 4,
 "nbformat_minor": 5
}
