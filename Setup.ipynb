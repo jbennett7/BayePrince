{
 "cells": [
  {
   "cell_type": "markdown",
   "id": "french-hampton",
   "metadata": {},
   "source": [
    "CRAN Package: FinancialMath\n",
    "https://cran.r-project.org/web/packages/FinancialMath/index.html"
   ]
  },
  {
   "cell_type": "code",
   "execution_count": 1,
   "id": "powerful-tiger",
   "metadata": {},
   "outputs": [
    {
     "name": "stderr",
     "output_type": "stream",
     "text": [
      "Installing package into ‘/home/ubuntu/R/x86_64-pc-linux-gnu-library/3.6’\n",
      "(as ‘lib’ is unspecified)\n",
      "\n"
     ]
    }
   ],
   "source": [
    "install.packages('FinancialMath')\n",
    "library(FinancialMath)"
   ]
  }
 ],
 "metadata": {
  "kernelspec": {
   "display_name": "R",
   "language": "R",
   "name": "ir"
  },
  "language_info": {
   "codemirror_mode": "r",
   "file_extension": ".r",
   "mimetype": "text/x-r-source",
   "name": "R",
   "pygments_lexer": "r",
   "version": "3.6.3"
  }
 },
 "nbformat": 4,
 "nbformat_minor": 5
}
