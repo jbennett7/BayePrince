{
 "cells": [
  {
   "cell_type": "code",
   "execution_count": 1,
   "id": "regulated-olive",
   "metadata": {},
   "outputs": [],
   "source": [
    "suppressMessages(library(FinCal))\n",
    "options(scipen = 999)"
   ]
  },
  {
   "cell_type": "markdown",
   "id": "adult-rover",
   "metadata": {},
   "source": [
    "# Recognize the Time Value of Money"
   ]
  },
  {
   "cell_type": "markdown",
   "id": "boolean-stupid",
   "metadata": {},
   "source": [
    "#### TODO: Describe the functions used in the FinancialMath package"
   ]
  },
  {
   "cell_type": "markdown",
   "id": "structured-morgan",
   "metadata": {},
   "source": [
    "## Present Value Analysis"
   ]
  },
  {
   "cell_type": "markdown",
   "id": "similar-hunger",
   "metadata": {},
   "source": [
    "### Present Value Formula\n",
    "$$\n",
    "\\begin{align*}\n",
    "PV = \\frac{FV}{(1+i)^n}\n",
    "\\end{align*}\n",
    "$$\n",
    "\n",
    "__Example__, the present value of \\\\$100.00 in 10 years if the interest rate is at 7 percent is \\\\$50.83.\n",
    "\n",
    "$$\n",
    "\\begin{align*}\n",
    "PV = \\frac{\\$100}{(1+.07)^{10}} = \\frac{\\$100}{1.9672} = \\$50.83\n",
    "\\end{align*}\n",
    "$$\n",
    "\n",
    "The higher the interest rate the higher the opportunity cost of waiting to receive a future amount and thus the lower the present value of the future amount. Low interest rates encourage immediate investment.\n",
    "\n",
    "__Example__, if the interest rate was 8 percent, then\n",
    "\n",
    "$$\n",
    "\\begin{align*}\n",
    "PV = \\frac{\\$100}{(1+.08)^{10}} = \\$46.32\n",
    "\\end{align*}\n",
    "$$"
   ]
  },
  {
   "cell_type": "code",
   "execution_count": 2,
   "id": "prescription-tennis",
   "metadata": {},
   "outputs": [
    {
     "data": {
      "text/html": [
       "50.83"
      ],
      "text/latex": [
       "50.83"
      ],
      "text/markdown": [
       "50.83"
      ],
      "text/plain": [
       "[1] 50.83"
      ]
     },
     "metadata": {},
     "output_type": "display_data"
    }
   ],
   "source": [
    "round(pv.simple(r=.07, n=10, fv=-100),digits=2)"
   ]
  },
  {
   "cell_type": "markdown",
   "id": "threaded-norman",
   "metadata": {},
   "source": [
    "### Demonstration Problem  1 - 1\n",
    "The manager of Auotmated Products is contemplating the purchase of a new machine that will cost \\\\$300,00 and has a useful life of five years. The machine will yield (year-end) cost reductions to Automated Products of \\\\$50,000 in year 1, \\\\$60,000 in year 2, \\\\$75,000 in year 3, and \\\\$90,000 in years 4 and 5. What is the present value of the cost savings of the machine if the interest rate is 8 percent? Should the manager purchase the machine?"
   ]
  },
  {
   "cell_type": "code",
   "execution_count": 3,
   "id": "collected-prototype",
   "metadata": {},
   "outputs": [
    {
     "name": "stdout",
     "output_type": "stream",
     "text": [
      "[1] \"PV = 284679\"\n"
     ]
    }
   ],
   "source": [
    "presentValue <- round(pv.uneven(r=.08, cf=-c(50000,60000,75000,90000,90000)),digits=0)\n",
    "print(paste(\"PV =\", presentValue),sep=\"\")"
   ]
  },
  {
   "cell_type": "code",
   "execution_count": 4,
   "id": "entertaining-extent",
   "metadata": {},
   "outputs": [
    {
     "name": "stdout",
     "output_type": "stream",
     "text": [
      "[1] \"NPV = -15321\"\n"
     ]
    }
   ],
   "source": [
    "netPresentValue <- round(npv(r=.08, cf=c(-300000,50000,60000,75000,90000,90000)),digits=0)\n",
    "print(paste(\"NPV =\", netPresentValue))"
   ]
  },
  {
   "cell_type": "markdown",
   "id": "cultural-award",
   "metadata": {},
   "source": [
    "## Present Value of Indefinitely Lived Assets"
   ]
  },
  {
   "cell_type": "code",
   "execution_count": 5,
   "id": "jewish-editor",
   "metadata": {},
   "outputs": [],
   "source": [
    "pv.firm <- function(initial, r, g) {\n",
    "    return (initial * ((1 + r) / (r - g)))\n",
    "}\n",
    "\n",
    "pv.exDividend <- function(initial, r, g) {\n",
    "    return (initial * ((1 + g) / (r - g)))\n",
    "}"
   ]
  },
  {
   "cell_type": "markdown",
   "id": "designed-grill",
   "metadata": {},
   "source": [
    "### Demonstration Problem 1 - 2"
   ]
  },
  {
   "cell_type": "markdown",
   "id": "violent-violence",
   "metadata": {},
   "source": [
    "Suppose the interest rate is 10 percent and the firm is expected to grow at a rate of 5 percent for the foreseeable future. The firm's current profits are \\\\$100 million."
   ]
  },
  {
   "cell_type": "markdown",
   "id": "convertible-fifty",
   "metadata": {},
   "source": [
    "a. What is the value of the firm (the present value of its current and future earnings)?"
   ]
  },
  {
   "cell_type": "code",
   "execution_count": 6,
   "id": "super-campbell",
   "metadata": {},
   "outputs": [
    {
     "data": {
      "text/html": [
       "2200"
      ],
      "text/latex": [
       "2200"
      ],
      "text/markdown": [
       "2200"
      ],
      "text/plain": [
       "[1] 2200"
      ]
     },
     "metadata": {},
     "output_type": "display_data"
    }
   ],
   "source": [
    "pv.firm(100, .1, .05)"
   ]
  },
  {
   "cell_type": "markdown",
   "id": "interim-archives",
   "metadata": {},
   "source": [
    "b. What is the value of the firm immediately after it pays a dividend equal to its current profits?"
   ]
  },
  {
   "cell_type": "code",
   "execution_count": 7,
   "id": "unknown-savings",
   "metadata": {},
   "outputs": [
    {
     "data": {
      "text/html": [
       "2100"
      ],
      "text/latex": [
       "2100"
      ],
      "text/markdown": [
       "2100"
      ],
      "text/plain": [
       "[1] 2100"
      ]
     },
     "metadata": {},
     "output_type": "display_data"
    }
   ],
   "source": [
    "pv.exDividend(100, .1, .05)"
   ]
  },
  {
   "cell_type": "markdown",
   "id": "musical-virginia",
   "metadata": {},
   "source": [
    "# Marginal Analysis"
   ]
  },
  {
   "cell_type": "code",
   "execution_count": null,
   "id": "entertaining-helena",
   "metadata": {},
   "outputs": [],
   "source": []
  }
 ],
 "metadata": {
  "kernelspec": {
   "display_name": "R",
   "language": "R",
   "name": "ir"
  },
  "language_info": {
   "codemirror_mode": "r",
   "file_extension": ".r",
   "mimetype": "text/x-r-source",
   "name": "R",
   "pygments_lexer": "r",
   "version": "3.6.3"
  }
 },
 "nbformat": 4,
 "nbformat_minor": 5
}
