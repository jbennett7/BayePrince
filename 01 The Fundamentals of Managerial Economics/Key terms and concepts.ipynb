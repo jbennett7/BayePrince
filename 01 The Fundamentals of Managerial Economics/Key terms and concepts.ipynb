{
 "cells": [
  {
   "cell_type": "markdown",
   "id": "architectural-allocation",
   "metadata": {},
   "source": [
    "# Key Terms and concepts"
   ]
  },
  {
   "cell_type": "markdown",
   "id": "deadly-uncertainty",
   "metadata": {},
   "source": [
    "__accounting cost__, also called the explicit cost, it is the dollar value of the cost."
   ]
  },
  {
   "cell_type": "markdown",
   "id": "classified-wagner",
   "metadata": {},
   "source": [
    "__accounting profits__, the total amount of money taken in from sales (total revenue, or price times quantity sold) minus the dollar cost of producing goods or services."
   ]
  },
  {
   "cell_type": "markdown",
   "id": "naked-mumbai",
   "metadata": {},
   "source": [
    "__constraints__, a limiting factor that affects the ability to achieve a goal. Constraints make it difficul to achieve goals such as maximizing profits or increasing market share. Constraints may include available technology and prices of inputs used in production."
   ]
  },
  {
   "cell_type": "markdown",
   "id": "toxic-mission",
   "metadata": {},
   "source": [
    "__consumer-consumer rivalry__, a constraint that reduces the negotiating power of consumers in the marketplace. When there is limited goods, or producers of goods, at high consumer demand consumer-consumer rivalry will be a factor in setting market prices."
   ]
  },
  {
   "cell_type": "markdown",
   "id": "impossible-panic",
   "metadata": {},
   "source": [
    "__consumer-producer rivalry__, a mutual constraint between consumers and producers that help to set prices in the market. If the consumer offers a price that is too low, the producer can refuse to sell. If the producer offers a prices that is too high, the consumer could refuse to buy."
   ]
  },
  {
   "cell_type": "markdown",
   "id": "talented-stanley",
   "metadata": {},
   "source": [
    "__economic profits__, the difference between the total revenue and the total opportunity cost of producing the firm's goods or services."
   ]
  },
  {
   "cell_type": "markdown",
   "id": "swedish-restriction",
   "metadata": {},
   "source": [
    "__economics__, is the science of making decisions in the presence of scarce resources."
   ]
  },
  {
   "cell_type": "markdown",
   "id": "marine-tribune",
   "metadata": {},
   "source": [
    "__ex-dividend date__, the date when a firm pays out its stated dividend."
   ]
  },
  {
   "cell_type": "markdown",
   "id": "established-maine",
   "metadata": {},
   "source": [
    "__explicit cost__, allso called accounting costs, it is the dollar value of the cost."
   ]
  },
  {
   "cell_type": "markdown",
   "id": "light-impact",
   "metadata": {},
   "source": [
    "__five forces framework__, a framework conceptualized by Michael Porter. It lays out the five \"forces\" that impact the sustainability of industry profits and include: (1) entry, (2) power of input suppliers, (3) power of buyers, (4) industry rivalry, and (5) substitutes and complements."
   ]
  },
  {
   "cell_type": "markdown",
   "id": "distant-quantity",
   "metadata": {},
   "source": [
    "__future value (FV)__, the amount that will be generated in the future if some present amount is invested today."
   ]
  },
  {
   "cell_type": "markdown",
   "id": "naked-iraqi",
   "metadata": {},
   "source": [
    "__goals__, an objective to try to achieve."
   ]
  },
  {
   "cell_type": "markdown",
   "id": "freelance-combination",
   "metadata": {},
   "source": [
    "__implicit cost__, other costs (not accounting) that also affects the opportunity cost. Implicit costs are very hard to measure and are often overlooked. However, it is important to seek out data from other sources to identify and quantify implicit costs."
   ]
  },
  {
   "cell_type": "markdown",
   "id": "clean-allen",
   "metadata": {},
   "source": [
    "__incentives__, most people behave in their own best interest. If you hire a manager to overlook your operations, it is important that you align his best interests with your best interest so that the manager will mange the operations in your best interest. To help in aligning the manager's interests with your interests you can use incentives, such as bonuses and stock options."
   ]
  },
  {
   "cell_type": "markdown",
   "id": "necessary-garbage",
   "metadata": {},
   "source": [
    "__incremental cost__, in incremental decision making, incremental cost is the cost that stem from a yes or no decision."
   ]
  },
  {
   "cell_type": "markdown",
   "id": "charming-sport",
   "metadata": {},
   "source": [
    "__incremental revenue__,In incremental decisions, the additional revenue that stem from a yes or no decision."
   ]
  },
  {
   "cell_type": "markdown",
   "id": "several-thong",
   "metadata": {},
   "source": [
    "__manager__, a person who directs resources to achieve a stated goal."
   ]
  },
  {
   "cell_type": "markdown",
   "id": "illegal-diversity",
   "metadata": {},
   "source": [
    "__managerial economics__, the study of how to direct scarce resources in the way that most efficiently achieves a managerial goal."
   ]
  },
  {
   "cell_type": "markdown",
   "id": "flexible-breakdown",
   "metadata": {},
   "source": [
    "__marginal analysis__, a managerial decision making tool that helps a manager decide the optimal decision by comapring the marginal (or incremental) benefits of a decision with the marginal (or incremental) costs."
   ]
  },
  {
   "cell_type": "markdown",
   "id": "cognitive-headset",
   "metadata": {},
   "source": [
    "__marginal benefit__, the change in total benefits arising from a change in the managerial control variable Q."
   ]
  },
  {
   "cell_type": "markdown",
   "id": "signed-workstation",
   "metadata": {},
   "source": [
    "__marginal cost__, the change in total costs arising from a change in the managerial control variable Q."
   ]
  },
  {
   "cell_type": "markdown",
   "id": "exposed-poverty",
   "metadata": {},
   "source": [
    "__marginal net benefit__, the change in net benefits that arise from a one-unit change in Q."
   ]
  },
  {
   "cell_type": "markdown",
   "id": "radio-brisbane",
   "metadata": {},
   "source": [
    "__net present value (NPV)__, the present value of the income stream generated by a project minus the current cost of the project."
   ]
  },
  {
   "cell_type": "markdown",
   "id": "intensive-poland",
   "metadata": {},
   "source": [
    "__opportunity cost__, the explicit cost of a resource plus the implicit cost of giving up its best alternative."
   ]
  },
  {
   "cell_type": "markdown",
   "id": "ranging-attribute",
   "metadata": {},
   "source": [
    "__perpetuity__, in present value analysis, an asset can generate a perpetual stream of cash flows that goes on into the foreseeable future."
   ]
  },
  {
   "cell_type": "markdown",
   "id": "gorgeous-ceremony",
   "metadata": {},
   "source": [
    "__present value (PV)__, the amount that would have to be invested today at the prevailing interest rate to generate the given future value."
   ]
  },
  {
   "cell_type": "markdown",
   "id": "figured-currency",
   "metadata": {},
   "source": [
    "__producer-producer rivalry__, a constraint that reduces the negotiating power of producers in the marketplace."
   ]
  },
  {
   "cell_type": "markdown",
   "id": "educational-theme",
   "metadata": {},
   "source": [
    "__profit__, a signal to resource holders where resources are most highly valued by society."
   ]
  },
  {
   "cell_type": "markdown",
   "id": "smoking-suspect",
   "metadata": {},
   "source": [
    "__resources__, anything that is used to produce a good or service or, more generally, to achieve a goal."
   ]
  },
  {
   "cell_type": "markdown",
   "id": "original-swiss",
   "metadata": {},
   "source": [
    "__time value of money__, a concept that money is worth more today than it is in the future."
   ]
  },
  {
   "cell_type": "markdown",
   "id": "worst-probability",
   "metadata": {},
   "source": [
    "__value of a firm__, the present value of the future cash flows of a company."
   ]
  }
 ],
 "metadata": {
  "kernelspec": {
   "display_name": "R",
   "language": "R",
   "name": "ir"
  },
  "language_info": {
   "codemirror_mode": "r",
   "file_extension": ".r",
   "mimetype": "text/x-r-source",
   "name": "R",
   "pygments_lexer": "r",
   "version": "3.6.3"
  }
 },
 "nbformat": 4,
 "nbformat_minor": 5
}
