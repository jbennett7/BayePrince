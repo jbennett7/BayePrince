{
 "cells": [
  {
   "cell_type": "markdown",
   "id": "laden-patrol",
   "metadata": {},
   "source": [
    "# Key Terms and concepts"
   ]
  },
  {
   "cell_type": "markdown",
   "id": "framed-happening",
   "metadata": {},
   "source": [
    "__accounting cost__, also called the explicit cost, it is the dollar value of the cost."
   ]
  },
  {
   "cell_type": "markdown",
   "id": "optional-methodology",
   "metadata": {},
   "source": [
    "__accounting profits__, the total amount of money taken in from sales (total revenue, or price times quantity sold) minus the dollar cost of producing goods or services."
   ]
  },
  {
   "cell_type": "markdown",
   "id": "optimum-indicator",
   "metadata": {},
   "source": [
    "__constraints__, a limiting factor that affects the ability to achieve a goal. Constraints make it difficul to achieve goals such as maximizing profits or increasing market share. Constraints may include available technology and prices of inputs used in production."
   ]
  },
  {
   "cell_type": "markdown",
   "id": "continent-potato",
   "metadata": {},
   "source": [
    "__consumer-consumer rivalry__, a constraint that reduces the negotiating power of consumers in the marketplace. When there is limited goods at high consumer demand consumer-consumer rivalry will be a factor in setting market prices."
   ]
  },
  {
   "cell_type": "markdown",
   "id": "potential-system",
   "metadata": {},
   "source": [
    "__consumer-producer rivalry__, a mutual constraint between consumers and producers that help to set prices in the market. If the consumer offers a price that is too low, the producer can refuse to sell. If the producer offers a prices that is too high, the consumer could refuse to buy."
   ]
  },
  {
   "cell_type": "markdown",
   "id": "surface-preliminary",
   "metadata": {},
   "source": [
    "__economic profits__, the difference between the total revenue and the total opportunity cost of producing the firm's goods or services."
   ]
  },
  {
   "cell_type": "markdown",
   "id": "fatty-viking",
   "metadata": {},
   "source": [
    "__economics__, is the science of making decisions in the presence of scarce resources."
   ]
  },
  {
   "cell_type": "markdown",
   "id": "wanted-empty",
   "metadata": {},
   "source": [
    "__ex-dividend date__, the date when a firm pays out its stated dividend."
   ]
  },
  {
   "cell_type": "markdown",
   "id": "better-sender",
   "metadata": {},
   "source": [
    "__explicit cost__, allso called accounting costs, it is the dollar value of the cost."
   ]
  },
  {
   "cell_type": "markdown",
   "id": "described-symbol",
   "metadata": {},
   "source": [
    "__five forces framework__, a framework conceptualized by Michael Porter. It lays out the five \"forces\" that impact the sustainability of industry profits and include: (1) entry, (2) power of input suppliers, (3) power of buyers, (4) industry rivalry, and (5) substitutes and complements."
   ]
  },
  {
   "cell_type": "markdown",
   "id": "conscious-indication",
   "metadata": {},
   "source": [
    "__future value (FV)__, the amount that will be generated in the future if some present amount is invested today."
   ]
  },
  {
   "cell_type": "markdown",
   "id": "binding-challenge",
   "metadata": {},
   "source": [
    "__goals__, an objective to try to achieve."
   ]
  },
  {
   "cell_type": "markdown",
   "id": "expired-holocaust",
   "metadata": {},
   "source": [
    "__implicit cost__, other costs (not accounting) that also affects the opportunity cost. Implicit costs are very hard to measure and are often overlooked. However, it is important to seek out data from other sources to identify and quantify implicit costs."
   ]
  },
  {
   "cell_type": "markdown",
   "id": "naval-entry",
   "metadata": {},
   "source": [
    "__incentives__"
   ]
  },
  {
   "cell_type": "markdown",
   "id": "prostate-conditioning",
   "metadata": {},
   "source": [
    "__incremental cost__"
   ]
  },
  {
   "cell_type": "markdown",
   "id": "duplicate-justice",
   "metadata": {},
   "source": [
    "__incremental revenue__"
   ]
  },
  {
   "cell_type": "markdown",
   "id": "knowing-indiana",
   "metadata": {},
   "source": [
    "__manager__"
   ]
  },
  {
   "cell_type": "markdown",
   "id": "perfect-dating",
   "metadata": {},
   "source": [
    "__managerial economics__"
   ]
  },
  {
   "cell_type": "markdown",
   "id": "prostate-gothic",
   "metadata": {},
   "source": [
    "__marginal analysis__"
   ]
  },
  {
   "cell_type": "markdown",
   "id": "actual-brick",
   "metadata": {},
   "source": [
    "__marginal benefit__"
   ]
  },
  {
   "cell_type": "markdown",
   "id": "vocal-attitude",
   "metadata": {},
   "source": [
    "__marginal cost__"
   ]
  },
  {
   "cell_type": "markdown",
   "id": "grave-arctic",
   "metadata": {},
   "source": [
    "__marginal net benefit__"
   ]
  },
  {
   "cell_type": "markdown",
   "id": "intelligent-waters",
   "metadata": {},
   "source": [
    "__net present value (NPV)__"
   ]
  },
  {
   "cell_type": "markdown",
   "id": "ignored-coordinator",
   "metadata": {},
   "source": [
    "__opportunity cost__"
   ]
  },
  {
   "cell_type": "markdown",
   "id": "chicken-vegetation",
   "metadata": {},
   "source": [
    "__perpetuity__"
   ]
  },
  {
   "cell_type": "markdown",
   "id": "played-trader",
   "metadata": {},
   "source": [
    "__present value (PV)__"
   ]
  },
  {
   "cell_type": "markdown",
   "id": "aerial-johns",
   "metadata": {},
   "source": [
    "__producer-producer rivalry__"
   ]
  },
  {
   "cell_type": "markdown",
   "id": "intellectual-hands",
   "metadata": {},
   "source": [
    "__profit__"
   ]
  },
  {
   "cell_type": "markdown",
   "id": "excess-wallpaper",
   "metadata": {},
   "source": [
    "__resources__"
   ]
  },
  {
   "cell_type": "markdown",
   "id": "enclosed-density",
   "metadata": {},
   "source": [
    "__time value of money__"
   ]
  },
  {
   "cell_type": "markdown",
   "id": "extra-greeting",
   "metadata": {},
   "source": [
    "__value of a firm__"
   ]
  }
 ],
 "metadata": {
  "kernelspec": {
   "display_name": "R",
   "language": "R",
   "name": "ir"
  },
  "language_info": {
   "codemirror_mode": "r",
   "file_extension": ".r",
   "mimetype": "text/x-r-source",
   "name": "R",
   "pygments_lexer": "r",
   "version": "3.6.3"
  }
 },
 "nbformat": 4,
 "nbformat_minor": 5
}
