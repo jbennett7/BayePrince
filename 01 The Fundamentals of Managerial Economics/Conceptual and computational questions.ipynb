{
 "cells": [
  {
   "cell_type": "code",
   "execution_count": 1,
   "id": "herbal-banks",
   "metadata": {},
   "outputs": [],
   "source": [
    "suppressMessages(library(FinCal))\n",
    "options(scipen = 999)"
   ]
  },
  {
   "cell_type": "markdown",
   "id": "recent-florist",
   "metadata": {},
   "source": [
    "# Conceptual and computational questions"
   ]
  },
  {
   "cell_type": "markdown",
   "id": "russian-dimension",
   "metadata": {},
   "source": [
    "---"
   ]
  },
  {
   "cell_type": "markdown",
   "id": "fewer-projection",
   "metadata": {},
   "source": [
    "1. Southwest Airlines begins a \"Bags Fly Free\" campaign, charging no fees for the first and second checked bags. Does this situation best represent producer-producer rivalry, consumer-consumer rivalry, or consumer-producer rivalry? Explain. (LO1, LO7)"
   ]
  },
  {
   "cell_type": "markdown",
   "id": "later-necklace",
   "metadata": {},
   "source": [
    "This is a producer-producer rivalry. The campaign is designed to attract people who have already decided to fly to use Southwest Airlines instead of another airline. Producer-producer rivalries are competition for the right to service a customer. The firms that offer the best-quality product at the lowest price will win that right. Here Soutwest Airlines is attempting to attract customers with a bargin on checked luggage."
   ]
  },
  {
   "cell_type": "markdown",
   "id": "turned-crime",
   "metadata": {},
   "source": [
    "---"
   ]
  },
  {
   "cell_type": "markdown",
   "id": "soviet-pantyhose",
   "metadata": {},
   "source": [
    "2. What is the maximum amount you would pay for an asset that generates an income of \\\\$250,000 at the end of each of five years if the opportunity cost of using funds is 8 percent? (LO5, LO7)"
   ]
  },
  {
   "cell_type": "code",
   "execution_count": 4,
   "id": "august-remains",
   "metadata": {},
   "outputs": [
    {
     "data": {
      "text/html": [
       "998178"
      ],
      "text/latex": [
       "998178"
      ],
      "text/markdown": [
       "998178"
      ],
      "text/plain": [
       "[1] 998178"
      ]
     },
     "metadata": {},
     "output_type": "display_data"
    }
   ],
   "source": [
    "netPresentValue <- round(npv(r=.08, cf=c(0,250000,250000,250000,250000,250000)), digits=0)\n",
    "netPresentValue"
   ]
  },
  {
   "cell_type": "code",
   "execution_count": 7,
   "id": "adaptive-agreement",
   "metadata": {},
   "outputs": [
    {
     "data": {
      "text/html": [
       "998178"
      ],
      "text/latex": [
       "998178"
      ],
      "text/markdown": [
       "998178"
      ],
      "text/plain": [
       "[1] 998178"
      ]
     },
     "metadata": {},
     "output_type": "display_data"
    }
   ],
   "source": [
    "round(pv.annuity(r=.08, n=5, pmt=-250000), digits=0)"
   ]
  },
  {
   "cell_type": "markdown",
   "id": "incident-reference",
   "metadata": {},
   "source": [
    "---"
   ]
  },
  {
   "cell_type": "markdown",
   "id": "mental-nature",
   "metadata": {},
   "source": [
    "3. Suppose that the total benefit and total cost from a continuous activity are, respectively, given by the following equations: $B(Q) = 100 + 36Q - 4Q^2$ and $C(Q) = 80 + 12Q$. \\[_Note_: $MB(Q) = 36 - 8Q$ and $MC(Q) = 12.$\\] (LO1, LO6, LO7)"
   ]
  },
  {
   "cell_type": "markdown",
   "id": "understood-anthropology",
   "metadata": {},
   "source": [
    "_a._ Write out the equation for the net benefits."
   ]
  },
  {
   "cell_type": "markdown",
   "id": "advised-rough",
   "metadata": {},
   "source": [
    "$N(Q) = B(Q) - C(Q) = 100 + 36Q - 4Q^2 - 80 - 12Q = 20 + 24Q - 4Q^2$"
   ]
  },
  {
   "cell_type": "markdown",
   "id": "south-first",
   "metadata": {},
   "source": [
    "_b._ What are the net benefits when $Q = 1$? $Q = 5$?"
   ]
  },
  {
   "cell_type": "code",
   "execution_count": 13,
   "id": "lyric-mileage",
   "metadata": {},
   "outputs": [
    {
     "data": {
      "text/html": [
       "40"
      ],
      "text/latex": [
       "40"
      ],
      "text/markdown": [
       "40"
      ],
      "text/plain": [
       "[1] 40"
      ]
     },
     "metadata": {},
     "output_type": "display_data"
    }
   ],
   "source": [
    "Q <- 1\n",
    "20 + 24*Q - 4*Q^2"
   ]
  },
  {
   "cell_type": "code",
   "execution_count": 14,
   "id": "smart-complaint",
   "metadata": {},
   "outputs": [
    {
     "data": {
      "text/html": [
       "40"
      ],
      "text/latex": [
       "40"
      ],
      "text/markdown": [
       "40"
      ],
      "text/plain": [
       "[1] 40"
      ]
     },
     "metadata": {},
     "output_type": "display_data"
    }
   ],
   "source": [
    "Q <- 5\n",
    "20 + 24*Q - 4*Q^2"
   ]
  },
  {
   "cell_type": "markdown",
   "id": "architectural-mainstream",
   "metadata": {},
   "source": [
    "_c._ Write out the equation for the marginal net benefits."
   ]
  },
  {
   "cell_type": "markdown",
   "id": "clean-tender",
   "metadata": {},
   "source": [
    "$MNB(Q) = MB(Q) - MC(Q) = 36 - 8Q - 12 = 24 - 8Q$"
   ]
  },
  {
   "cell_type": "markdown",
   "id": "found-scene",
   "metadata": {},
   "source": [
    "_d._ What are the marginal net benefits when $Q = 1$? $Q = 5$?"
   ]
  },
  {
   "cell_type": "code",
   "execution_count": 18,
   "id": "changing-density",
   "metadata": {},
   "outputs": [
    {
     "data": {
      "text/html": [
       "16"
      ],
      "text/latex": [
       "16"
      ],
      "text/markdown": [
       "16"
      ],
      "text/plain": [
       "[1] 16"
      ]
     },
     "metadata": {},
     "output_type": "display_data"
    }
   ],
   "source": [
    "Q <- 1\n",
    "24 - 8*Q"
   ]
  },
  {
   "cell_type": "code",
   "execution_count": 17,
   "id": "judicial-assembly",
   "metadata": {},
   "outputs": [
    {
     "data": {
      "text/html": [
       "-16"
      ],
      "text/latex": [
       "-16"
      ],
      "text/markdown": [
       "-16"
      ],
      "text/plain": [
       "[1] -16"
      ]
     },
     "metadata": {},
     "output_type": "display_data"
    }
   ],
   "source": [
    "Q <- 5\n",
    "24 - 8*Q"
   ]
  },
  {
   "cell_type": "markdown",
   "id": "vulnerable-somerset",
   "metadata": {},
   "source": [
    "_e._ What level of $Q$ maximizes net benefits?"
   ]
  },
  {
   "cell_type": "markdown",
   "id": "seeing-guard",
   "metadata": {},
   "source": [
    "$MB(Q) = MC(Q)$\n",
    "\n",
    "$36 - 8Q - 12 = 0$\n",
    "\n",
    "$Q = 3$"
   ]
  },
  {
   "cell_type": "markdown",
   "id": "ecological-insertion",
   "metadata": {},
   "source": [
    "_f._ At the value $Q$ that maximizes net benefits, what is the value of marginal net benefits?"
   ]
  },
  {
   "cell_type": "markdown",
   "id": "voluntary-occasion",
   "metadata": {},
   "source": [
    "$MNB(Q) = 0$"
   ]
  },
  {
   "cell_type": "markdown",
   "id": "endless-string",
   "metadata": {},
   "source": [
    "---"
   ]
  },
  {
   "cell_type": "markdown",
   "id": "colored-batman",
   "metadata": {},
   "source": [
    "4. A firm's current profits are \\\\$400,000. These profits are expected to grow indefinitely at a constant annual rate of 4 percent. If the firm's opportunity cost of funds is 6 percent, determine the value of the firm: (LO5, LO7)"
   ]
  },
  {
   "cell_type": "markdown",
   "id": "supposed-price",
   "metadata": {},
   "source": [
    "_a._ The instance before it pays out current profits as dividends."
   ]
  },
  {
   "cell_type": "code",
   "execution_count": 19,
   "id": "convenient-fellowship",
   "metadata": {},
   "outputs": [
    {
     "data": {
      "text/html": [
       "21200000"
      ],
      "text/latex": [
       "21200000"
      ],
      "text/markdown": [
       "21200000"
      ],
      "text/plain": [
       "[1] 21200000"
      ]
     },
     "metadata": {},
     "output_type": "display_data"
    }
   ],
   "source": [
    "pv.firm <- function(initial, r, g) {\n",
    "    return (initial * ((1 + r) / (r - g)))\n",
    "}\n",
    "r <- .06\n",
    "g <- .04\n",
    "pv.firm(400000, r=r, g=g)"
   ]
  },
  {
   "cell_type": "markdown",
   "id": "double-barrel",
   "metadata": {},
   "source": [
    "_b._ The instant after it pays out current profits as dividends."
   ]
  },
  {
   "cell_type": "code",
   "execution_count": 20,
   "id": "corresponding-reaction",
   "metadata": {},
   "outputs": [
    {
     "data": {
      "text/html": [
       "20800000"
      ],
      "text/latex": [
       "20800000"
      ],
      "text/markdown": [
       "20800000"
      ],
      "text/plain": [
       "[1] 20800000"
      ]
     },
     "metadata": {},
     "output_type": "display_data"
    }
   ],
   "source": [
    "pv.exDividend <- function(initial, r, g) {\n",
    "    return (initial * ((1 + g) / (r - g)))\n",
    "}\n",
    "pv.exDividend(400000, r=r, g=g)"
   ]
  },
  {
   "cell_type": "markdown",
   "id": "starting-symbol",
   "metadata": {},
   "source": [
    "---"
   ]
  },
  {
   "cell_type": "markdown",
   "id": "german-disney",
   "metadata": {},
   "source": [
    "5. What is the value of a preferred stock that pays a perpetual dividend of \\\\$125 at the end of each year when the interest rate is 5 percent? (LO5, LO7)"
   ]
  },
  {
   "cell_type": "code",
   "execution_count": 25,
   "id": "sought-fortune",
   "metadata": {},
   "outputs": [
    {
     "data": {
      "text/html": [
       "2500"
      ],
      "text/latex": [
       "2500"
      ],
      "text/markdown": [
       "2500"
      ],
      "text/plain": [
       "[1] 2500"
      ]
     },
     "metadata": {},
     "output_type": "display_data"
    }
   ],
   "source": [
    "cf <- 125\n",
    "r <- .05\n",
    "pv.perpetuity(r=r, pmt=-cf, g=0)"
   ]
  },
  {
   "cell_type": "markdown",
   "id": "utility-uniform",
   "metadata": {},
   "source": [
    "---"
   ]
  },
  {
   "cell_type": "markdown",
   "id": "mysterious-buyer",
   "metadata": {},
   "source": [
    "7. It is estimated that over \\$100,000 students will apply to the top 30 MBA programs in the United States this year. (LO1, LO3, LO5, LO7)"
   ]
  },
  {
   "cell_type": "markdown",
   "id": "present-cholesterol",
   "metadata": {},
   "source": [
    "_a._ Using the concept of net present value and opportunity cost, explain when it is rational for an invdividual to pursue an MBA degree."
   ]
  },
  {
   "cell_type": "markdown",
   "id": "favorite-peoples",
   "metadata": {},
   "source": [
    "_b._ What would you expect to happen to the number of applicants if the starting salaries of managers with MBA degrees decreased by 20 percent? Why?"
   ]
  },
  {
   "cell_type": "markdown",
   "id": "olympic-founder",
   "metadata": {},
   "source": [
    "---"
   ]
  },
  {
   "cell_type": "markdown",
   "id": "referenced-harvard",
   "metadata": {},
   "source": [
    "8. Jaynet spends \\\\$30,000 per year on painting supplies and storage space. She recently received two job offers from a famus marketing firm&mdash;one offer was for \\\\$110,000 per year and the other was for \\\\$80,000. However, she turned both jobs down to continue a painting career. If Jaynet sells 25 paintings per year at a price of \\\\$8,000 each, (LO1, LO2, LO3, LO7)"
   ]
  },
  {
   "cell_type": "markdown",
   "id": "dense-oxide",
   "metadata": {},
   "source": [
    "_a._ What are her accounting profits?"
   ]
  },
  {
   "cell_type": "markdown",
   "id": "spoken-converter",
   "metadata": {},
   "source": [
    "_b._ What are her economic profits?"
   ]
  },
  {
   "cell_type": "markdown",
   "id": "imposed-novelty",
   "metadata": {},
   "source": [
    "---"
   ]
  },
  {
   "cell_type": "markdown",
   "id": "floating-caribbean",
   "metadata": {},
   "source": [
    "9. Suppose the total benefit derived from a continuous decision, $Q$, is $B(Q) = 20Q - 2Q^2$ and the corresponding total cost is $C(Q) = 4 + 2Q^2$, so that $MB(Q) = 20 - 4Q$ and $MC(Q) = 4Q$. (LO1, LO6, LO7)"
   ]
  },
  {
   "cell_type": "markdown",
   "id": "material-singing",
   "metadata": {},
   "source": [
    "_a._ What is total benefit when $Q = 2$? $Q = 10$?"
   ]
  },
  {
   "cell_type": "markdown",
   "id": "narrative-cycle",
   "metadata": {},
   "source": [
    "_b._ What is marginal benefit when $Q = 2$? $Q = 10$?"
   ]
  },
  {
   "cell_type": "markdown",
   "id": "fossil-speaking",
   "metadata": {},
   "source": [
    "_c._ What level of $Q$ maximizes total benefit?"
   ]
  },
  {
   "cell_type": "markdown",
   "id": "defensive-trial",
   "metadata": {},
   "source": [
    "_d._ What is total cost when $Q = 2$? $Q = 10$?"
   ]
  },
  {
   "cell_type": "markdown",
   "id": "silent-occupation",
   "metadata": {},
   "source": [
    "_e._ What is marginal cost when $Q = 2$? $Q = 10$?"
   ]
  },
  {
   "cell_type": "markdown",
   "id": "popular-duplicate",
   "metadata": {},
   "source": [
    "_f._ What level of $Q$ minimizes total cost?"
   ]
  },
  {
   "cell_type": "markdown",
   "id": "special-supply",
   "metadata": {},
   "source": [
    "_g._ What level of $Q$ maximizes net benefits?"
   ]
  },
  {
   "cell_type": "markdown",
   "id": "robust-abraham",
   "metadata": {},
   "source": [
    "---"
   ]
  }
 ],
 "metadata": {
  "kernelspec": {
   "display_name": "R",
   "language": "R",
   "name": "ir"
  },
  "language_info": {
   "codemirror_mode": "r",
   "file_extension": ".r",
   "mimetype": "text/x-r-source",
   "name": "R",
   "pygments_lexer": "r",
   "version": "3.6.3"
  }
 },
 "nbformat": 4,
 "nbformat_minor": 5
}
