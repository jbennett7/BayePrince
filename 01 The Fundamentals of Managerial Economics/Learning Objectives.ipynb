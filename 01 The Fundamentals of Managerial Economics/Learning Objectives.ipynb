{
 "cells": [
  {
   "cell_type": "markdown",
   "id": "fixed-infection",
   "metadata": {},
   "source": [
    "# Learning Objectives"
   ]
  },
  {
   "cell_type": "markdown",
   "id": "received-clear",
   "metadata": {},
   "source": [
    "LO1: Summarize how goals, constraints, incentives, and market rivalry affect economic decisions."
   ]
  },
  {
   "cell_type": "markdown",
   "id": "endangered-classroom",
   "metadata": {},
   "source": [
    "LO2: Distinguish economic versus accounting profits and costs."
   ]
  },
  {
   "cell_type": "markdown",
   "id": "miniature-overview",
   "metadata": {},
   "source": [
    "LO3: Explain the role of profits in a market economy."
   ]
  },
  {
   "cell_type": "markdown",
   "id": "framed-sally",
   "metadata": {},
   "source": [
    "LO4: Apply the five forces framework to analyze the sustainability of an industry's profits."
   ]
  },
  {
   "cell_type": "markdown",
   "id": "national-listening",
   "metadata": {},
   "source": [
    "LO5: Apply present value analysis to make decisions and value assets."
   ]
  },
  {
   "cell_type": "markdown",
   "id": "creative-terrace",
   "metadata": {},
   "source": [
    "LO6: Apply marginal analysis to determine the optimal level of a managerial control variable."
   ]
  },
  {
   "cell_type": "markdown",
   "id": "biological-invalid",
   "metadata": {},
   "source": [
    "LO7: Identify and apply six principles of effective managerial decision making."
   ]
  }
 ],
 "metadata": {
  "kernelspec": {
   "display_name": "R",
   "language": "R",
   "name": "ir"
  },
  "language_info": {
   "codemirror_mode": "r",
   "file_extension": ".r",
   "mimetype": "text/x-r-source",
   "name": "R",
   "pygments_lexer": "r",
   "version": "3.6.3"
  }
 },
 "nbformat": 4,
 "nbformat_minor": 5
}
